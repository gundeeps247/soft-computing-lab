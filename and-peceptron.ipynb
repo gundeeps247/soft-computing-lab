{
 "cells": [
  {
   "cell_type": "code",
   "execution_count": 37,
   "metadata": {},
   "outputs": [],
   "source": [
    "import numpy as np"
   ]
  },
  {
   "cell_type": "code",
   "execution_count": 38,
   "metadata": {},
   "outputs": [],
   "source": [
    "input_data = np.array([[0,0],[0,1],[1,0],[1,1]])"
   ]
  },
  {
   "cell_type": "code",
   "execution_count": 39,
   "metadata": {},
   "outputs": [],
   "source": [
    "output_data = np.array([0,1,1,1])"
   ]
  },
  {
   "cell_type": "code",
   "execution_count": 40,
   "metadata": {},
   "outputs": [],
   "source": [
    "def activation_func(x):\n",
    "    return 1 if x>=0 else 0"
   ]
  },
  {
   "cell_type": "code",
   "execution_count": 41,
   "metadata": {},
   "outputs": [],
   "source": [
    "weights=[1,2]\n",
    "bias= -2.1\n",
    "# summation = []\n",
    "actual_outputs = []\n",
    "def prediction(weights):\n",
    "    for inputs in input_data:\n",
    "        summation = np.dot(weights,inputs)+bias\n",
    "        predicted = activation_func(summation)\n",
    "        actual_outputs.append(predicted)\n"
   ]
  },
  {
   "cell_type": "code",
   "execution_count": 42,
   "metadata": {},
   "outputs": [
    {
     "name": "stdout",
     "output_type": "stream",
     "text": [
      "[0, 0, 0, 1]\n"
     ]
    }
   ],
   "source": [
    "print(actual_outputs)"
   ]
  },
  {
   "cell_type": "code",
   "execution_count": 43,
   "metadata": {},
   "outputs": [],
   "source": [
    "count = 0\n",
    "learning_rate=0.5\n",
    "for i in output_data:\n",
    "    if actual_outputs[i] == output_data[i]:\n",
    "        count+=1\n",
    "accuracy = (count/4)*100\n",
    "for j in output_data:\n",
    "    if accuracy!=100.0:\n",
    "        error=output_data[j]-actual_outputs[j]\n",
    "        weights+=learning_rate*error*input_data[j]\n",
    "prediction(weights)\n"
   ]
  },
  {
   "cell_type": "code",
   "execution_count": null,
   "metadata": {},
   "outputs": [],
   "source": []
  }
 ],
 "metadata": {
  "kernelspec": {
   "display_name": "Python 3",
   "language": "python",
   "name": "python3"
  },
  "language_info": {
   "codemirror_mode": {
    "name": "ipython",
    "version": 3
   },
   "file_extension": ".py",
   "mimetype": "text/x-python",
   "name": "python",
   "nbconvert_exporter": "python",
   "pygments_lexer": "ipython3",
   "version": "3.12.2"
  }
 },
 "nbformat": 4,
 "nbformat_minor": 2
}
