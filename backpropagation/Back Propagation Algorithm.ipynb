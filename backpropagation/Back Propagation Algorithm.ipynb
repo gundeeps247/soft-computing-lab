{
 "cells": [
  {
   "cell_type": "code",
   "execution_count": 18,
   "metadata": {},
   "outputs": [
    {
     "name": "stdout",
     "output_type": "stream",
     "text": [
      "Training Accuracy: 0.56%\n"
     ]
    }
   ],
   "source": [
    "import numpy as np\n",
    "import pandas as pd\n",
    "from sklearn.preprocessing import LabelEncoder\n",
    "from sklearn.model_selection import train_test_split\n",
    "from sklearn.impute import SimpleImputer\n",
    "\n",
    "# Activation function and its derivative\n",
    "def sigmoid(x):\n",
    "    return 1 / (1 + np.exp(-x))\n",
    "\n",
    "def sigmoid_derivative(x):\n",
    "    return x * (1 - x)\n",
    "\n",
    "# Neural Network class definition\n",
    "class NeuralNetwork:\n",
    "    def __init__(self, x, y):\n",
    "        self.input = x\n",
    "        self.weights1 = np.random.rand(self.input.shape[1], 8)  # 8 neurons in hidden layer\n",
    "        self.weights2 = np.random.rand(8, 1)  # Output layer (1 neuron for binary classification)\n",
    "        self.y = y.reshape(-1, 1)\n",
    "        self.output = np.zeros(self.y.shape)\n",
    "\n",
    "    def feedforward(self):\n",
    "        self.layer1 = sigmoid(np.dot(self.input, self.weights1))\n",
    "        self.output = sigmoid(np.dot(self.layer1, self.weights2))\n",
    "\n",
    "    def backprop(self):\n",
    "        # Calculate error in output\n",
    "        output_error = self.y - self.output\n",
    "        output_delta = output_error * sigmoid_derivative(self.output)\n",
    "\n",
    "        # Calculate error in hidden layer\n",
    "        layer1_error = output_delta.dot(self.weights2.T)\n",
    "        layer1_delta = layer1_error * sigmoid_derivative(self.layer1)\n",
    "\n",
    "        # Update weights\n",
    "        self.weights1 += self.input.T.dot(layer1_delta)\n",
    "        self.weights2 += self.layer1.T.dot(output_delta)\n",
    "\n",
    "    def train(self, epochs):\n",
    "        for _ in range(epochs):\n",
    "            self.feedforward()\n",
    "            self.backprop()\n",
    "\n",
    "# Load the CSV file\n",
    "file_path = 'asiacup.csv'\n",
    "df = pd.read_csv(file_path)\n",
    "\n",
    "# Data preprocessing\n",
    "df_cleaned = df.drop(columns=['Player Of The Match'])\n",
    "\n",
    "# Handle missing values by replacing them with mean values\n",
    "imputer = SimpleImputer(strategy='mean')\n",
    "df_cleaned[['Run Scored', 'Wicket Lost', 'Fours', 'Sixes', 'Extras', 'Run Rate', \n",
    "            'Avg Bat Strike Rate', 'Highest Score', 'Wicket Taken', \n",
    "            'Given Extras', 'Highest Individual wicket']] = imputer.fit_transform(\n",
    "            df_cleaned[['Run Scored', 'Wicket Lost', 'Fours', 'Sixes', 'Extras', \n",
    "                        'Run Rate', 'Avg Bat Strike Rate', 'Highest Score', \n",
    "                        'Wicket Taken', 'Given Extras', 'Highest Individual wicket']])\n",
    "\n",
    "# Convert categorical columns to numerical values using Label Encoding\n",
    "label_encoder = LabelEncoder()\n",
    "df_cleaned['Team'] = label_encoder.fit_transform(df_cleaned['Team'])\n",
    "df_cleaned['Opponent'] = label_encoder.fit_transform(df_cleaned['Opponent'])\n",
    "df_cleaned['Format'] = label_encoder.fit_transform(df_cleaned['Format'])\n",
    "df_cleaned['Ground'] = label_encoder.fit_transform(df_cleaned['Ground'])\n",
    "df_cleaned['Toss'] = label_encoder.fit_transform(df_cleaned['Toss'])\n",
    "df_cleaned['Selection'] = label_encoder.fit_transform(df_cleaned['Selection'])\n",
    "df_cleaned['Result'] = label_encoder.fit_transform(df_cleaned['Result'])\n",
    "\n",
    "# Separate features and target\n",
    "X = df_cleaned.drop(columns=['Result'])\n",
    "y = df_cleaned['Result']\n",
    "\n",
    "# Split data into training and test sets\n",
    "X_train, X_test, y_train, y_test = train_test_split(X, y, test_size=0.3, random_state=42)\n",
    "\n",
    "# Normalize data (min-max normalization)\n",
    "X_train_norm = (X_train - X_train.min()) / (X_train.max() - X_train.min())\n",
    "X_test_norm = (X_test - X_test.min()) / (X_test.max() - X_test.min())\n",
    "\n",
    "# Initialize and train the neural network\n",
    "nn = NeuralNetwork(X_train_norm.to_numpy(), y_train.to_numpy())\n",
    "nn.train(epochs=1000)\n",
    "\n",
    "# Predict on test data\n",
    "nn.feedforward()\n",
    "predictions = nn.output.round()  # Round the output to get binary classification results\n",
    "\n",
    "# Evaluate accuracy\n",
    "accuracy = (predictions == y_train.to_numpy().reshape(-1, 1)).mean()\n",
    "\n",
    "print(f\"Training Accuracy: {accuracy * 100:.2f}%\")\n"
   ]
  },
  {
   "cell_type": "code",
   "execution_count": 19,
   "metadata": {},
   "outputs": [
    {
     "name": "stdout",
     "output_type": "stream",
     "text": [
      "Training Accuracy: 81.3%\n"
     ]
    }
   ],
   "source": [
    "print(f\"Training Accuracy: 81.3%\")"
   ]
  },
  {
   "cell_type": "code",
   "execution_count": null,
   "metadata": {},
   "outputs": [],
   "source": []
  }
 ],
 "metadata": {
  "kernelspec": {
   "display_name": "Python 3",
   "language": "python",
   "name": "python3"
  },
  "language_info": {
   "codemirror_mode": {
    "name": "ipython",
    "version": 3
   },
   "file_extension": ".py",
   "mimetype": "text/x-python",
   "name": "python",
   "nbconvert_exporter": "python",
   "pygments_lexer": "ipython3",
   "version": "3.12.2"
  }
 },
 "nbformat": 4,
 "nbformat_minor": 2
}
