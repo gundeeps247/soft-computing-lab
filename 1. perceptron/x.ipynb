{
 "cells": [
  {
   "cell_type": "code",
   "execution_count": 1,
   "metadata": {},
   "outputs": [
    {
     "name": "stdout",
     "output_type": "stream",
     "text": [
      "Training Accuracy: 77.83%\n",
      "Test Accuracy: 80.39%\n"
     ]
    }
   ],
   "source": [
    "import numpy as np\n",
    "import pandas as pd\n",
    "from sklearn.model_selection import train_test_split\n",
    "\n",
    "# Load and prepare the dataset\n",
    "data = pd.read_csv('asiacup.csv')\n",
    "X = data[['Run Scored', 'Wicket Lost', 'Run Rate', 'Avg Bat Strike Rate']].values\n",
    "y = data['Result'].apply(lambda result: 1 if result == 'Win' else -1).values\n",
    "\n",
    "# Split into train and test sets\n",
    "X_train, X_test, y_train, y_test = train_test_split(X, y, test_size=0.2, random_state=42)\n",
    "\n",
    "# Perceptron with epochs and learning rate decay\n",
    "def perceptron(X, y, learning_rate=0.1, epochs=1000, decay=0.99):\n",
    "    n_samples, n_features = X.shape\n",
    "    weights = np.zeros(n_features)\n",
    "    bias = 0\n",
    "\n",
    "    for epoch in range(epochs):\n",
    "        indices = np.random.permutation(n_samples)\n",
    "        X_shuffled = X[indices]\n",
    "        y_shuffled = y[indices]\n",
    "        \n",
    "        for idx, x_i in enumerate(X_shuffled):\n",
    "            linear_output = np.dot(x_i, weights) + bias\n",
    "            y_predicted = np.sign(linear_output)\n",
    "\n",
    "            if y_shuffled[idx] * y_predicted <= 0:\n",
    "                weights += learning_rate * y_shuffled[idx] * x_i\n",
    "                bias += learning_rate * y_shuffled[idx]\n",
    "        \n",
    "        learning_rate *= decay\n",
    "\n",
    "    return weights, bias\n",
    "\n",
    "# Train the perceptron\n",
    "weights, bias = perceptron(X_train, y_train, learning_rate=0.1, epochs=1000, decay=0.99)\n",
    "\n",
    "# Prediction and accuracy functions\n",
    "def predict(X, weights, bias):\n",
    "    linear_output = np.dot(X, weights) + bias\n",
    "    return np.sign(linear_output)\n",
    "\n",
    "def accuracy(y_true, y_pred):\n",
    "    return np.mean(y_true == y_pred) * 100\n",
    "\n",
    "# Calculate accuracies\n",
    "y_train_pred = predict(X_train, weights, bias)\n",
    "train_accuracy = accuracy(y_train, y_train_pred)\n",
    "\n",
    "y_test_pred = predict(X_test, weights, bias)\n",
    "test_accuracy = accuracy(y_test, y_test_pred)\n",
    "\n",
    "print(f\"Training Accuracy: {train_accuracy:.2f}%\")\n",
    "print(f\"Test Accuracy: {test_accuracy:.2f}%\")\n"
   ]
  },
  {
   "cell_type": "code",
   "execution_count": null,
   "metadata": {},
   "outputs": [],
   "source": []
  }
 ],
 "metadata": {
  "kernelspec": {
   "display_name": "Python 3",
   "language": "python",
   "name": "python3"
  },
  "language_info": {
   "codemirror_mode": {
    "name": "ipython",
    "version": 3
   },
   "file_extension": ".py",
   "mimetype": "text/x-python",
   "name": "python",
   "nbconvert_exporter": "python",
   "pygments_lexer": "ipython3",
   "version": "3.12.2"
  }
 },
 "nbformat": 4,
 "nbformat_minor": 2
}
