{
 "cells": [
  {
   "cell_type": "code",
   "execution_count": 25,
   "metadata": {},
   "outputs": [
    {
     "name": "stdout",
     "output_type": "stream",
     "text": [
      "Trained Weights:  [ 34.98381017 -55.95774111  39.81070641  23.68510436  -1.85557585\n",
      "  35.18924658  42.3730375   35.82698976  63.37390836  15.82992504\n",
      "  54.12796135]\n",
      "Accuracy: 76.47058823529412%\n"
     ]
    }
   ],
   "source": [
    "import numpy as np\n",
    "import pandas as pd\n",
    "from sklearn.model_selection import train_test_split\n",
    "from sklearn.preprocessing import StandardScaler\n",
    "from sklearn.metrics import accuracy_score\n",
    "\n",
    "# Load the data\n",
    "file_path = 'asiacup.csv'\n",
    "data = pd.read_csv(file_path)\n",
    "\n",
    "# Select the relevant features and target\n",
    "features = ['Run Scored', 'Wicket Lost', 'Fours', 'Sixes', 'Extras', 'Run Rate', \n",
    "            'Avg Bat Strike Rate', 'Highest Score', 'Wicket Taken', 'Given Extras', \n",
    "            'Highest Individual wicket']\n",
    "target = 'Result'\n",
    "\n",
    "# Encode the target variable (Win=1, Lose=0)\n",
    "data[target] = data[target].map({'Win': 1, 'Lose': 0})\n",
    "\n",
    "# Handle missing values only for numeric columns by filling with the column mean\n",
    "numeric_cols = data.select_dtypes(include=[np.number]).columns\n",
    "data[numeric_cols] = data[numeric_cols].fillna(data[numeric_cols].mean())\n",
    "\n",
    "# Split data into input features (X) and target (y)\n",
    "X = data[features].values\n",
    "y = data[target].values\n",
    "\n",
    "# Standardize the feature values (normalization)\n",
    "scaler = StandardScaler()\n",
    "X = scaler.fit_transform(X)\n",
    "\n",
    "# Split the data into training and testing sets (80% training, 20% testing)\n",
    "X_train, X_test, y_train, y_test = train_test_split(X, y, test_size=0.2, random_state=42)\n",
    "\n",
    "# Hebb's Rule implementation\n",
    "def hebb_learning(X, y, weights):\n",
    "    for i in range(len(X)):\n",
    "        weights += X[i] * y[i]\n",
    "    return weights\n",
    "\n",
    "# Initialize weights to zeros\n",
    "weights = np.zeros(X_train.shape[1])\n",
    "\n",
    "# Train the model\n",
    "weights = hebb_learning(X_train, y_train, weights)\n",
    "\n",
    "# Prediction function (apply threshold to classify)\n",
    "def predict(X, weights):\n",
    "    return np.where(np.dot(X, weights) >= 0, 1, 0)\n",
    "\n",
    "# Predict on the test data\n",
    "y_pred = predict(X_test, weights)\n",
    "\n",
    "# Ensure y_test and y_pred are integers (binary labels 0 or 1)\n",
    "y_test = y_test.astype(int)\n",
    "y_pred = y_pred.astype(int)\n",
    "\n",
    "# Calculate accuracy\n",
    "accuracy = accuracy_score(y_test, y_pred) * 100\n",
    "\n",
    "# Print results\n",
    "print(\"Trained Weights: \", weights)\n",
    "print(f\"Accuracy: {accuracy}%\")\n"
   ]
  }
 ],
 "metadata": {
  "kernelspec": {
   "display_name": "Python 3",
   "language": "python",
   "name": "python3"
  },
  "language_info": {
   "codemirror_mode": {
    "name": "ipython",
    "version": 3
   },
   "file_extension": ".py",
   "mimetype": "text/x-python",
   "name": "python",
   "nbconvert_exporter": "python",
   "pygments_lexer": "ipython3",
   "version": "3.12.2"
  }
 },
 "nbformat": 4,
 "nbformat_minor": 2
}
